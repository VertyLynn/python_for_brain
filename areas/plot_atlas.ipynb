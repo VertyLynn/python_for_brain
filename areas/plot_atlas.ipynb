{
 "cells": [
  {
   "cell_type": "code",
   "execution_count": null,
   "metadata": {},
   "outputs": [],
   "source": [
    "%matplotlib notebook\n",
    "from nilearn.plotting import plot_glass_brain,plot_roi\n",
    "import nibabel as nib\n",
    "import io\n",
    "import os\n",
    "import numpy as np\n",
    "from matplotlib.colors import ListedColormap\n",
    "import requests"
   ]
  },
  {
   "cell_type": "code",
   "execution_count": null,
   "metadata": {},
   "outputs": [],
   "source": [
    "url = \"https://github.com/neurolabusc/MRIcron/raw/master/niftiview7/templates/brodmann.nii.lut\"\n",
    "r = requests.get(url)\n",
    "open(os.path.join('data',url.rsplit('/', 1)[1]), 'wb').write(r.content)\n",
    "url = \"https://github.com/neurolabusc/MRIcron/raw/master/templates/brodmann.nii.gz\"\n",
    "r = requests.get(url)\n",
    "open(os.path.join('data',url.rsplit('/', 1)[1]), 'wb').write(r.content)\n",
    "url = \"https://github.com/neurolabusc/MRIcron/raw/master/templates/aal.nii.gz\"\n",
    "r = requests.get(url)\n",
    "open(os.path.join('data',url.rsplit('/', 1)[1]), 'wb').write(r.content)\n",
    "url = \"https://github.com/neurolabusc/MRIcron/raw/master/templates/aal.nii.lut\"\n",
    "r = requests.get(url)\n",
    "open(os.path.join('data',url.rsplit('/', 1)[1]), 'wb').write(r.content)\n"
   ]
  },
  {
   "cell_type": "markdown",
   "metadata": {},
   "source": [
    "# AAL"
   ]
  },
  {
   "cell_type": "code",
   "execution_count": null,
   "metadata": {},
   "outputs": [],
   "source": [
    "aal_img = nib.load('data/aal.nii.gz')\n",
    "aal_lut = np.fromfile('data/aal.nii.lut', dtype=np.uint8).reshape(3,256).T/255\n",
    "plot_roi(aal_img, cmap=ListedColormap(aal_lut),display_mode='ortho',colorbar=True )"
   ]
  },
  {
   "cell_type": "code",
   "execution_count": null,
   "metadata": {},
   "outputs": [],
   "source": [
    "plot_glass_brain(aal_img, cmap=ListedColormap(aal_lut),display_mode='ortho',colorbar=True )"
   ]
  },
  {
   "cell_type": "markdown",
   "metadata": {},
   "source": [
    "# Brodmann"
   ]
  },
  {
   "cell_type": "code",
   "execution_count": null,
   "metadata": {},
   "outputs": [],
   "source": [
    "brodmann_nii = nib.load('data/brodmann.nii.gz')\n",
    "brodmann_lut = np.fromfile('data/brodmann.nii.lut', dtype=np.uint8).reshape(3,256).T/255\n",
    "brodmann_lut = brodmann_lut[0:49,:]\n",
    "plot_roi(brodmann_nii, cmap=ListedColormap(brodmann_lut),display_mode='ortho',colorbar=True)"
   ]
  },
  {
   "cell_type": "code",
   "execution_count": null,
   "metadata": {},
   "outputs": [],
   "source": [
    "plot_glass_brain(brodmann_nii,cmap=ListedColormap(brodmann_lut),display_mode='ortho',colorbar=True)"
   ]
  }
 ],
 "metadata": {
  "kernelspec": {
   "display_name": "Python 3",
   "language": "python",
   "name": "python3"
  },
  "language_info": {
   "codemirror_mode": {
    "name": "ipython",
    "version": 3
   },
   "file_extension": ".py",
   "mimetype": "text/x-python",
   "name": "python",
   "nbconvert_exporter": "python",
   "pygments_lexer": "ipython3",
   "version": "3.6.6"
  }
 },
 "nbformat": 4,
 "nbformat_minor": 2
}
