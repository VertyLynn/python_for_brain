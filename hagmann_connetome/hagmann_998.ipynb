{
 "cells": [
  {
   "cell_type": "markdown",
   "metadata": {},
   "source": [
    "1. Download hagmann connectome from TheVirtualBrain github\n",
    "2. Unzip the package\n",
    "3. Build NetworkX graph"
   ]
  },
  {
   "cell_type": "code",
   "execution_count": null,
   "metadata": {},
   "outputs": [],
   "source": [
    "from shutil import unpack_archive\n",
    "unpack_archive('./connectivity_998.zip', 'connectivity_998/')"
   ]
  },
  {
   "cell_type": "code",
   "execution_count": null,
   "metadata": {},
   "outputs": [],
   "source": [
    "import numpy as np\n",
    "# read nodes region names and centers\n",
    "centres = np.genfromtxt('connectivity_998/centres.txt',\n",
    "                        dtype='|U256,i,i,i',\n",
    "                        encoding='utf-8',\n",
    "                        names=['name','x','y','z'])\n",
    "\n",
    "# convert nodes region names to dict\n",
    "regions_dict = dict()\n",
    "positions_dict = dict()\n",
    "for idx, r in enumerate(centres):\n",
    "    names_dict[idx] = r['name']\n",
    "    positions_dict[idx] = (r['x'], r['y'],r['z'])\n",
    "    \n",
    "    \n",
    "weights = np.genfromtxt('connectivity_998/weights.txt')\n",
    "print(names_dict)"
   ]
  },
  {
   "cell_type": "code",
   "execution_count": null,
   "metadata": {},
   "outputs": [],
   "source": [
    "import networkx as nx\n",
    "graph = nx.Graph()\n",
    "graphw = nx.from_numpy_matrix(weights)\n",
    "graph.add_nodes_from(positions_dict)\n",
    "graph.add_weighted_edges_from(graphw.edges())\n",
    "#graph = nx.relabel_nodes(graph, names_dict)\n",
    "#nx.set_node_attributes\n",
    "print(graph.n())"
   ]
  },
  {
   "cell_type": "code",
   "execution_count": null,
   "metadata": {},
   "outputs": [],
   "source": [
    "!cat connectivity_998/weights.txt"
   ]
  },
  {
   "cell_type": "code",
   "execution_count": null,
   "metadata": {},
   "outputs": [],
   "source": [
    "!ls connectivity_998"
   ]
  },
  {
   "cell_type": "code",
   "execution_count": null,
   "metadata": {},
   "outputs": [],
   "source": []
  }
 ],
 "metadata": {
  "kernelspec": {
   "display_name": "Python 3",
   "language": "python",
   "name": "python3"
  },
  "language_info": {
   "codemirror_mode": {
    "name": "ipython",
    "version": 3
   },
   "file_extension": ".py",
   "mimetype": "text/x-python",
   "name": "python",
   "nbconvert_exporter": "python",
   "pygments_lexer": "ipython3",
   "version": "3.6.6"
  }
 },
 "nbformat": 4,
 "nbformat_minor": 2
}
