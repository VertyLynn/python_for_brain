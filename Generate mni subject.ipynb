{
 "cells": [
  {
   "cell_type": "markdown",
   "metadata": {},
   "source": [
    "# Generate mni subject\n",
    "\n",
    "1. Imports\n",
    "2. Download mni template\n",
    "3. Apply reconall\n",
    "4. Build surfaces from aseg"
   ]
  },
  {
   "cell_type": "code",
   "execution_count": null,
   "metadata": {},
   "outputs": [],
   "source": [
    "from nipype import config\n",
    "cfg = dict(logging=dict(workflow_level = 'DEBUG'),\n",
    "           execution={'stop_on_first_crash': False,\n",
    "                      'hash_method': 'content'})\n",
    "config.update_config(cfg)\n",
    "\n",
    "from nilearn.datasets import load_mni152_template,get_data_dirs, fetch_icbm152_2009\n",
    "from nipype.interfaces.freesurfer.preprocess import ReconAll\n",
    "from nipype.pipeline import Node, MapNode, Workflow\n",
    "from nipype.interfaces.utility import Function\n",
    "import nipype.interfaces.freesurfer as fs\n",
    "from nipype.interfaces.io import FreeSurferSource\n",
    "\n",
    "import nibabel as nib\n",
    "import numpy as np\n",
    "\n",
    "import os"
   ]
  },
  {
   "cell_type": "code",
   "execution_count": null,
   "metadata": {},
   "outputs": [],
   "source": [
    "data_dir = './mni-template/'\n",
    "template = fetch_icbm152_2009(data_dir=data_dir)\n",
    "print(template)\n"
   ]
  },
  {
   "cell_type": "code",
   "execution_count": null,
   "metadata": {},
   "outputs": [],
   "source": [
    "if not os.path.isdir(data_dir):\n",
    "    os.mkdir(data_dir)\n",
    "\n",
    "reconall = ReconAll()\n",
    "reconall.inputs.subject_id = 'mni'\n",
    "reconall.inputs.directive = 'all'\n",
    "reconall.inputs.subjects_dir = data_dir\n",
    "reconall.inputs.T1_files = template['t1']\n",
    "reconall.inputs.T2_file = template['t2']\n",
    "reconall.inputs.use_T2 = True\n",
    "reconall.inputs.openmp = 2\n",
    "reconall.inputs.parallel = True\n",
    "reconall.run()"
   ]
  },
  {
   "cell_type": "markdown",
   "metadata": {},
   "source": [
    "## Generate surfaces from aseg"
   ]
  },
  {
   "cell_type": "code",
   "execution_count": null,
   "metadata": {},
   "outputs": [],
   "source": [
    "NAMELIST = [\n",
    "#[1,   'Left-Cerebral-Exterior',                  70,  130, 180, 0],\n",
    "[2,   'Left-Cerebral-White-Matter',              245, 245, 245, 0],\n",
    "[3,   'Left-Cerebral-Cortex',                    205, 62,  78,  0],\n",
    "[4,   'Left-Lateral-Ventricle',                  120, 18,  134, 0],\n",
    "[5,   'Left-Inf-Lat-Vent',                       196, 58,  250, 0],\n",
    "#[6,   'Left-Cerebellum-Exterior',                0,   148, 0,   0],\n",
    "[7,   'Left-Cerebellum-White-Matter',            220, 248, 164, 0],\n",
    "[8,   'Left-Cerebellum-Cortex',                 230, 148, 34,  0],\n",
    "[10,  'Left-Thalamus-Proper',                   0,   118, 14,  0],\n",
    "[11,  'Left-Caudate',                            122, 186, 220, 0],\n",
    "[12,  'Left-Putamen',                            236, 13,  176, 0],\n",
    "[13,  'Left-Pallidum',                           12,  48,  255, 0],\n",
    "[14,  '3rd-Ventricle',                           204, 182, 142, 0],\n",
    "[15,  '4th-Ventricle',                           42,  204, 164, 0],\n",
    "[16,  'Brain-Stem',                              119, 159, 176, 0],\n",
    "[17,  'Left-Hippocampus',                        220, 216, 20,  0],\n",
    "[18,  'Left-Amygdala',                           103, 255, 255, 0],\n",
    "#[19,  'Left-Insula',                             80,  196, 98,  0],\n",
    "[26,  'Left-Accumbens-area',                     255, 165, 0,   0],\n",
    "[28,  'Left-VentralDC',                          165, 42,  42,  0],\n",
    "#[40,  'Right-Cerebral-Exterior',                 70,  130, 180, 0],\n",
    "[41,  'Right-Cerebral-White-Matter',             245, 245, 245, 0],\n",
    "[42,  'Right-Cerebral-Cortex',                   205, 62,  78, 0],\n",
    "[43,  'Right-Lateral-Ventricle',                 120, 18,  134, 0],\n",
    "[44,  'Right-Inf-Lat-Vent',                      196, 58,  250, 0],\n",
    "#[45,  'Right-Cerebellum-Exterior',               0,   148, 0,   0],\n",
    "[46,  'Right-Cerebellum-White-Matter',           220, 248, 164, 0],\n",
    "[47,  'Right-Cerebellum-Cortex',                 230, 148, 34,  0],\n",
    "[49, 'Right-Thalamus-Proper',                  0,   118, 14,  0],\n",
    "[50,  'Right-Caudate',                           122, 186, 220, 0],\n",
    "[51,  'Right-Putamen',                           236, 13,  176, 0],\n",
    "[52,  'Right-Pallidum',                          13,  48,  255, 0],\n",
    "[53,  'Right-Hippocampus',                       220, 216, 20,  0],\n",
    "[54,  'Right-Amygdala',                          103, 255, 255, 0],\n",
    "#[55,  'Right-Insula',                            80,  196, 98,  0],\n",
    "[58,  'Right-Accumbens-area',                    255, 165, 0,   0],\n",
    "[60,  'Right-VentralDC',                         165, 42,  42,  0],\n",
    "[251, 'CC_Posterior',                            0,   0,   64,  0],\n",
    "[252, 'CC_Mid_Posterior',                        0,   0,   112, 0],\n",
    "[253, 'CC_Central',                              0,   0,   160, 0],\n",
    "[254, 'CC_Mid_Anterior',                         0,   0,   208, 0],\n",
    "[255, 'CC_Anterior',                             0,   0,   255, 0]]"
   ]
  },
  {
   "cell_type": "code",
   "execution_count": null,
   "metadata": {},
   "outputs": [],
   "source": [
    "lut_filepath = 'FreeSurferColorLUT.txt'\n",
    "lut_array = np.genfromtxt(lut_filepath,\n",
    "                          dtype=None,\n",
    "                          usecols=(0, 1, 2, 3, 4, 5),\n",
    "                          names=['id', 'name', 'R', 'G', 'B', 'A'],\n",
    "                          encoding='utf-8')\n",
    "bad_values = [0, 1, 6, 9, 19, 20, 21, 22, 23, 24, 25, 27, 29, 30, 31, 32, 33, 34, 35, 36, 37, 38, 39, 40, 45, 48, 55, 56, 57, 59, 61, 64, 65, 66, 67, \\\n",
    "              68, 69, 70, 71, 72, 73, 74, 75, 76, 77, 78, 79, 80, 81, 82, 83, 84, 85, 86, 87, 88, 89, 96, 97, 98, 192,  1000]\n",
    "\n",
    "\n",
    "# print(bad_values)\n",
    "\n",
    "# Read aseg to extract the labels\n",
    "fssource2 = FreeSurferSource(subjects_dir=data_dir,subject_id='mni')\n",
    "res = fssource2.run()\n",
    "q = nib.load(res.outputs.aparc_aseg[0])\n",
    "volume_values = np.unique(q.get_data())\n",
    "# print(volume_values)\n",
    "# Delete all labels that are not in the volume\n",
    "all_lut_idx = range(0,len(lut_array))\n",
    "\n",
    "good_values_idx = []\n",
    "for idx, elem in enumerate(lut_array):\n",
    "    if elem[0] not in bad_values and elem[0] in volume_values:\n",
    "        good_values_idx.append(idx)\n",
    "\n",
    "bad_values_idx = np.setdiff1d(all_lut_idx, good_values_idx)\n",
    "lut_array = np.delete(lut_array, bad_values_idx)\n",
    "print(lut_array)"
   ]
  },
  {
   "cell_type": "code",
   "execution_count": null,
   "metadata": {},
   "outputs": [],
   "source": [
    "wf = Workflow(name=\"generate_surfaces_aseg\")\n",
    "\n",
    "fssource = Node(interface=FreeSurferSource(subjects_dir=os.path.abspath(data_dir),subject_id='mni'), name='fssource')\n",
    "pretess = Node(interface=fs.MRIPretess(subjects_dir=os.path.abspath(data_dir)), name='pretess')\n",
    "tess =  Node(interface=fs.MRITessellate(subjects_dir=os.path.abspath(data_dir)), name='tess')\n",
    "smooth =  Node(interface=fs.SmoothTessellation(subjects_dir=os.path.abspath(data_dir)), name='smooth')\n",
    "convert = Node(interface=fs.MRIsConvert(subjects_dir=os.path.abspath(data_dir),), name='convert')\n",
    "\n",
    "wf.connect(fssource, 'aseg', pretess, 'in_filled')\n",
    "wf.connect(fssource, 'norm', pretess, 'in_norm')\n",
    "wf.connect(pretess, 'out_file', tess, 'in_file')\n",
    "wf.connect(tess, 'surface', smooth, 'in_file')\n",
    "wf.connect(smooth, 'surface', convert, 'in_file')"
   ]
  },
  {
   "cell_type": "code",
   "execution_count": null,
   "metadata": {},
   "outputs": [],
   "source": [
    "for l in lut_array:\n",
    "    if not os.path.exists(os.path.join(os.path.abspath(data_dir), 'mni', 'tmp', l[1]+'.surf.gii')):\n",
    "        # Pre tessellation\n",
    "        pretess.inputs.label = l[0]\n",
    "        pretess.inputs.out_file = os.path.join(os.path.abspath(data_dir), 'mni', 'tmp', l[1]+'_filled.mgz')\n",
    "        pretess.outputs\n",
    "        # Tesselation\n",
    "        tess.inputs.label_value = l[0]\n",
    "        tess.inputs.out_file = os.path.join(os.path.abspath(data_dir), 'mni', 'tmp',l[1]+'_nonsmooth' )\n",
    "        # Smoothing\n",
    "        smooth.inputs.out_file = os.path.join(os.path.abspath(data_dir), 'mni', 'tmp',l[1] )\n",
    "        # Convert\n",
    "        convert.inputs.out_file = os.path.join(os.path.abspath(data_dir), 'mni', 'tmp', l[1]+'.surf.gii')\n",
    "        # Run pipeline\n",
    "        wf.run()      \n",
    "\n",
    "        os.remove(pretess.inputs.out_file)\n",
    "        os.remove(tess.inputs.out_file)\n",
    "        os.remove(smooth.inputs.out_file)"
   ]
  },
  {
   "cell_type": "markdown",
   "metadata": {},
   "source": [
    "## Generte surfaces from other segmentations"
   ]
  },
  {
   "cell_type": "code",
   "execution_count": null,
   "metadata": {},
   "outputs": [],
   "source": [
    "wf = Workflow(name=\"generate_surfaces_aparc_aseg\")\n",
    "\n",
    "fssource = Node(interface=FreeSurferSource(subjects_dir=os.path.abspath(data_dir),subject_id='mni'), name='fssource')\n",
    "pretess = Node(interface=fs.MRIPretess(subjects_dir=os.path.abspath(data_dir)), iterfield='in_filled', name='pretess')\n",
    "tess =  Node(interface=fs.MRITessellate(subjects_dir=os.path.abspath(data_dir)), name='tess')\n",
    "smooth =  Node(interface=fs.SmoothTessellation(subjects_dir=os.path.abspath(data_dir)), name='smooth')\n",
    "convert = Node(interface=fs.MRIsConvert(subjects_dir=os.path.abspath(data_dir),), name='convert')\n",
    "\n",
    "#wf.connect(fssource, 'aparc_aseg', pretess, 'in_filled')\n",
    "wf.connect(fssource, 'norm', pretess, 'in_norm')\n",
    "wf.connect(pretess, 'out_file', tess, 'in_file')\n",
    "wf.connect(tess, 'surface', smooth, 'in_file')\n",
    "wf.connect(smooth, 'surface', convert, 'in_file')\n"
   ]
  },
  {
   "cell_type": "code",
   "execution_count": null,
   "metadata": {},
   "outputs": [],
   "source": [
    "# Load volume to know the different mask values\n",
    "fssource2 = FreeSurferSource(subjects_dir=data_dir,subject_id='mni')\n",
    "res = fssource2.run()\n",
    "aparc_aseg_files = res.outputs.aparc_aseg\n",
    "print(aparc_aseg_files)\n",
    "\n",
    "\n",
    "for aaf in aparc_aseg_files[1:]:\n",
    "    \n",
    "    # Get labels from aseg\n",
    "    img = nib.load(aaf)\n",
    "    unique_labels = np.unique(img.get_data())\n",
    "    \n",
    "    # Set the aparc_aseg_file as input to pretesselation\n",
    "    pretess.inputs.in_filled = aaf\n",
    "    output_folder = aaf.split('/')[-1].replace('.mgz','')\n",
    "    output_folder = os.path.join(os.path.abspath(data_dir), 'mni', 'tmp', output_folder)\n",
    "    \n",
    "    # Create output if it doesn't exist\n",
    "    if not os.path.exists(output_folder):\n",
    "        os.mkdir(output_folder)\n",
    "    \n",
    "    # Generate surfaces\n",
    "    for l in unique_labels:\n",
    "        # Pre tessellation\n",
    "        pretess.inputs.label = l\n",
    "        pretess.inputs.out_file = os.path.join(output_folder, str(l)+'_filled.mgz')\n",
    "        #pretess.outputs\n",
    "\n",
    "        # Tesselation\n",
    "        tess.inputs.label_value = l\n",
    "        tess.inputs.out_file = os.path.join(output_folder,str(l)+'_nonsmooth' )\n",
    "\n",
    "        # Smoothing\n",
    "        smooth.inputs.out_file = os.path.join(output_folder,str(l) )\n",
    "\n",
    "        # Convert\n",
    "        convert.inputs.out_file = os.path.join(output_folder, str(l)+'.surf.gii')\n",
    "\n",
    "        # Run pipeline\n",
    "        wf.run()      \n",
    "\n",
    "        os.remove(pretess.inputs.out_file)\n",
    "        os.remove(tess.inputs.out_file)\n",
    "        os.remove(smooth.inputs.out_file)"
   ]
  },
  {
   "cell_type": "code",
   "execution_count": null,
   "metadata": {},
   "outputs": [],
   "source": [
    "fssource2 = FreeSurferSource(subjects_dir=data_dir,subject_id='mni')\n",
    "print(fssource2.inputs)\n",
    "res = fssource2.run()\n",
    "res.outputs"
   ]
  },
  {
   "cell_type": "code",
   "execution_count": null,
   "metadata": {},
   "outputs": [],
   "source": [
    "pretess.inputs"
   ]
  },
  {
   "cell_type": "code",
   "execution_count": null,
   "metadata": {},
   "outputs": [],
   "source": [
    "!git pull"
   ]
  },
  {
   "cell_type": "code",
   "execution_count": null,
   "metadata": {},
   "outputs": [],
   "source": [
    "import nibabel as nib\n",
    "import numpy as np\n",
    "q = nib.load(res.outputs.aparc_aseg[0])\n",
    "np.unique(q.get_data())"
   ]
  },
  {
   "cell_type": "code",
   "execution_count": null,
   "metadata": {},
   "outputs": [],
   "source": []
  }
 ],
 "metadata": {
  "kernelspec": {
   "display_name": "Python 3",
   "language": "python",
   "name": "python3"
  },
  "language_info": {
   "codemirror_mode": {
    "name": "ipython",
    "version": 3
   },
   "file_extension": ".py",
   "mimetype": "text/x-python",
   "name": "python",
   "nbconvert_exporter": "python",
   "pygments_lexer": "ipython3",
   "version": "3.5.4"
  }
 },
 "nbformat": 4,
 "nbformat_minor": 2
}
