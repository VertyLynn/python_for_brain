{
 "cells": [
  {
   "cell_type": "code",
   "execution_count": null,
   "metadata": {},
   "outputs": [],
   "source": [
    "%matplotlib notebook"
   ]
  },
  {
   "cell_type": "code",
   "execution_count": null,
   "metadata": {},
   "outputs": [],
   "source": [
    "from nilearn import plotting, datasets, masking\n",
    "import nibabel as nib\n",
    "import os"
   ]
  },
  {
   "cell_type": "markdown",
   "metadata": {},
   "source": [
    "## MNI anatomy"
   ]
  },
  {
   "cell_type": "code",
   "execution_count": null,
   "metadata": {},
   "outputs": [],
   "source": [
    "from nilearn.datasets import load_mni152_template\n",
    "template = load_mni152_template()\n",
    "print(template)\n",
    "plotting.plot_anat(template)"
   ]
  },
  {
   "cell_type": "markdown",
   "metadata": {},
   "source": [
    "## Your volume"
   ]
  },
  {
   "cell_type": "code",
   "execution_count": null,
   "metadata": {},
   "outputs": [],
   "source": [
    "import numpy as np\n",
    "vol = nib.load('sub-10_T1w.nii.gz')\n",
    "img = vol.get_data().swapaxes(0,2)\n",
    "tranf_vol = nib.Nifti1Image(img, np.eye(4))\n",
    "plotting.plot_anat(vol, title = \"Original\")\n",
    "plotting.plot_anat(tranf_vol, title = \"Transformed\")"
   ]
  },
  {
   "cell_type": "code",
   "execution_count": null,
   "metadata": {},
   "outputs": [],
   "source": [
    "from nipype.interfaces import fsl\n",
    "btr = fsl.BET()\n",
    "btr.inputs.in_file = 'sub-10_T1w.nii.gz'\n",
    "btr.inputs.frac = 0.7\n",
    "btr.inputs.output_type = 'NIFTI_GZ'\n",
    "btr.inputs.out_file = 'output/fsl/brain_anat.nii.gz'\n",
    "res = btr.run() \n"
   ]
  },
  {
   "cell_type": "code",
   "execution_count": null,
   "metadata": {},
   "outputs": [],
   "source": [
    "plotting.plot_roi('./output/fsl/brain_anat.nii.gz', bg_img = 'sub-10_T1w.nii.gz', title = \"Extracted brain mask\")"
   ]
  },
  {
   "cell_type": "markdown",
   "metadata": {},
   "source": [
    "## ANTs registration to mni\n",
    "\n",
    "ANTs allows us to register (transform, warp, deform) a volume toward another. Usually, a given volume acquired with MRI to a template, such as mn152."
   ]
  },
  {
   "cell_type": "code",
   "execution_count": null,
   "metadata": {},
   "outputs": [],
   "source": [
    "from nipype.interfaces.ants import Registration\n",
    "reg = Registration()\n",
    "reg.inputs.fixed_image = os.path.join(datasets.__path__[0], \"data\",\"avg152T1_brain.nii.gz\")\n",
    "reg.inputs.moving_image = 'sub-10_T1w.nii.gz'\n",
    "reg.inputs.output_transform_prefix = \"output/ants/output_\"\n",
    "#reg.inputs.initial_moving_transform = 'trans.mat'\n",
    "reg.inputs.transforms = ['Affine', 'SyN']\n",
    "reg.inputs.transform_parameters = [(2.0,), (0.25, 3.0, 0.0)]\n",
    "reg.inputs.number_of_iterations = [[1500, 200], [100, 50, 30]]\n",
    "reg.inputs.dimension = 3\n",
    "reg.inputs.write_composite_transform = True\n",
    "reg.inputs.collapse_output_transforms = False\n",
    "reg.inputs.initialize_transforms_per_stage = False\n",
    "reg.inputs.metric = ['Mattes']*2\n",
    "reg.inputs.metric_weight = [1]*2 # Default (value ignored currently by ANTs)\n",
    "reg.inputs.radius_or_number_of_bins = [32]*2\n",
    "reg.inputs.sampling_strategy = ['Random', None]\n",
    "reg.inputs.sampling_percentage = [0.05, None]\n",
    "reg.inputs.convergence_threshold = [1.e-8, 1.e-9]\n",
    "reg.inputs.convergence_window_size = [20]*2\n",
    "reg.inputs.smoothing_sigmas = [[1,0], [2,1,0]]\n",
    "reg.inputs.sigma_units = ['vox'] * 2\n",
    "reg.inputs.shrink_factors = [[2,1], [3,2,1]]\n",
    "reg.inputs.use_estimate_learning_rate_once = [True, True]\n",
    "reg.inputs.use_histogram_matching = [True, True] # This is the default\n",
    "reg.inputs.output_warped_image = 'output/ants/output_warped_image.nii.gz'\n",
    "reg.run()  "
   ]
  },
  {
   "cell_type": "code",
   "execution_count": null,
   "metadata": {},
   "outputs": [],
   "source": [
    "plotting.plot_roi('./output/ants/output_warped_image.nii.gz', bg_img = 'sub-10_T1w.nii.gz', title = \"Extracted brain mask\")\n"
   ]
  },
  {
   "cell_type": "markdown",
   "metadata": {},
   "source": [
    "## FSL"
   ]
  },
  {
   "cell_type": "code",
   "execution_count": null,
   "metadata": {},
   "outputs": [],
   "source": [
    "from nipype.interfaces import fsl\n",
    "first = fsl.FIRST()\n",
    "first.inputs.in_file = 'sub-10_T1w.nii.gz'\n",
    "first.inputs.output_type = 'NIFTI_GZ'\n",
    "#first.inputs.out_file = './output/fsl/segmented.nii.gz'\n",
    "first.out_basename = './output/fsl/sub-10_T1w_'\n",
    "print(first.cmdline)\n",
    "print(first)\n",
    "res = first.run() "
   ]
  },
  {
   "cell_type": "code",
   "execution_count": null,
   "metadata": {},
   "outputs": [],
   "source": [
    "destrieux_atlas = datasets.fetch_atlas_destrieux_2009()\n",
    "destrieux_parcellation = destrieux_atlas['maps']\n",
    "plotting.plot_roi(destrieux_parcellation, bg_img = './output/ants/output_warped_image.nii.gz', cmap='gist_ncar',\n",
    "                  title='Destrieux 2010 parcellation')"
   ]
  }
 ],
 "metadata": {
  "kernelspec": {
   "display_name": "Python 3",
   "language": "python",
   "name": "python3"
  },
  "language_info": {
   "codemirror_mode": {
    "name": "ipython",
    "version": 3
   },
   "file_extension": ".py",
   "mimetype": "text/x-python",
   "name": "python",
   "nbconvert_exporter": "python",
   "pygments_lexer": "ipython3",
   "version": "3.5.4"
  }
 },
 "nbformat": 4,
 "nbformat_minor": 2
}
