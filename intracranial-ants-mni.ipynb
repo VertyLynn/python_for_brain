{
 "cells": [
  {
   "cell_type": "markdown",
   "metadata": {},
   "source": []
  },
  {
   "cell_type": "code",
   "execution_count": null,
   "metadata": {},
   "outputs": [],
   "source": [
    "import nipype.pipeline.engine as pe\n",
    "import nipype.interfaces.io as nio\n",
    "from nipype.pipeline import Node, MapNode, Workflow\n",
    "from nipype.interfaces.utility import IdentityInterface, Function\n",
    "from nipype.interfaces.io import DataSink\n",
    "from nipype.interfaces.ants import Registration\n",
    "from nipype.interfaces.ants import ApplyTransforms\n",
    "import nipype.interfaces.fsl as fsl\n",
    "import nipype.interfaces.utility as util"
   ]
  },
  {
   "cell_type": "code",
   "execution_count": null,
   "metadata": {},
   "outputs": [],
   "source": [
    "import os\n",
    "data_dir = os.path.abspath('/Volumes/_Research/Intracranial/bids')\n",
    "ants_output_dir = os.path.join(data_dir, 'derivatives', 'ants')\n",
    "fsl_output_dir = os.path.join(data_dir, 'derivatives', 'fsl')\n",
    "ants_data_dir = os.path.join(ants_output_dir, 'template')\n",
    "\n",
    "# Create output folders structure\n",
    "if not os.path.exists(os.path.join(data_dir, 'derivatives')):\n",
    "    os.mkdir(os.path.join(data_dir, 'derivatives'))\n",
    "\n",
    "if not os.path.exists(ants_output_dir):\n",
    "    os.mkdir(ants_output_dir)\n",
    "    \n",
    "if not os.path.exists(fsl_output_dir):\n",
    "    os.mkdir(fsl_output_dir)\n",
    "    \n",
    "if not os.path.exists(ants_data_dir):\n",
    "    os.mkdir(ants_data_dir)"
   ]
  },
  {
   "cell_type": "markdown",
   "metadata": {},
   "source": [
    "Download MNI template"
   ]
  },
  {
   "cell_type": "code",
   "execution_count": null,
   "metadata": {},
   "outputs": [],
   "source": [
    "from nilearn.datasets import load_mni152_template,get_data_dirs, fetch_icbm152_2009\n",
    "from nilearn import plotting\n",
    "template = fetch_icbm152_2009(data_dir=ants_data_dir)\n",
    "print(template['t1'])"
   ]
  },
  {
   "cell_type": "code",
   "execution_count": null,
   "metadata": {},
   "outputs": [],
   "source": [
    "bet = pe.Node(interface=fsl.BET(),name='bet')\n",
    "#bet.inputs.reduce_bias = True\n",
    "bet.inputs.surfaces = True\n",
    "bet.inputs.mesh = True\n",
    "bet.inputs.frac = 0.7\n",
    "bet.inputs.output_type = 'NIFTI_GZ'\n",
    "\n",
    "# coregistration step based on affine transformation using ANTs\n",
    "coreg = pe.Node(Registration(), name='CoregAnts')\n",
    "coreg.inputs.output_transform_prefix = 'func2highres'\n",
    "coreg.inputs.output_warped_image = 'func2highres.nii.gz'\n",
    "coreg.inputs.output_transform_prefix = \"func2highres_\"\n",
    "coreg.inputs.transforms = ['Rigid', 'Affine']\n",
    "coreg.inputs.transform_parameters = [(0.1,), (0.1,)]\n",
    "coreg.inputs.number_of_iterations = [[100, 100]]*3 \n",
    "coreg.inputs.dimension = 3\n",
    "coreg.inputs.write_composite_transform = True\n",
    "coreg.inputs.collapse_output_transforms = False\n",
    "coreg.inputs.metric = ['Mattes'] * 2 \n",
    "coreg.inputs.metric_weight = [1] * 2 \n",
    "coreg.inputs.radius_or_number_of_bins = [32] * 2 \n",
    "coreg.inputs.sampling_strategy = ['Regular'] * 2 \n",
    "coreg.inputs.sampling_percentage = [0.3] * 2 \n",
    "coreg.inputs.convergence_threshold = [1.e-8] * 2 \n",
    "coreg.inputs.convergence_window_size = [20] * 2\n",
    "coreg.inputs.smoothing_sigmas = [[4, 2]] * 2 \n",
    "coreg.inputs.sigma_units = ['vox'] * 4\n",
    "coreg.inputs.shrink_factors = [[6, 4]] + [[3, 2]]\n",
    "coreg.inputs.use_estimate_learning_rate_once = [True] * 2\n",
    "coreg.inputs.use_histogram_matching = [False] * 2 \n",
    "coreg.inputs.initial_moving_transform_com = True\n",
    "\n",
    "# registration or normalization step based on symmetric diffeomorphic image registration (SyN) using ANTs \n",
    "reg = pe.Node(Registration(), name='NormalizationAnts')\n",
    "reg.inputs.output_transform_prefix = 'highres2template'\n",
    "reg.inputs.output_warped_image = 'highres2template.nii.gz'\n",
    "reg.inputs.output_transform_prefix = \"highres2template_\"\n",
    "reg.inputs.transforms = ['Rigid', 'Affine', 'SyN']\n",
    "reg.inputs.transform_parameters = [(0.1,), (0.1,), (0.2, 3.0, 0.0)]\n",
    "reg.inputs.number_of_iterations = ([[10000, 111110, 11110]] * 2 + [[40, 10, 5]])\n",
    "#reg.inputs.number_of_iterations = ([[10000, 111110, 11110]] * 2 + [[100, 60, 35]])\n",
    "reg.inputs.dimension = 3\n",
    "reg.inputs.write_composite_transform = True\n",
    "reg.inputs.collapse_output_transforms = True\n",
    "reg.inputs.initial_moving_transform_com = True\n",
    "reg.inputs.metric = ['Mattes'] * 2 + [['Mattes', 'CC']]\n",
    "reg.inputs.metric_weight = [1] * 2 + [[0.5, 0.5]]\n",
    "reg.inputs.radius_or_number_of_bins = [32] * 2 + [[32, 4]]\n",
    "reg.inputs.sampling_strategy = ['Regular'] * 2 + [[None, None]]\n",
    "reg.inputs.sampling_percentage = [0.3] * 2 + [[None, None]]\n",
    "reg.inputs.convergence_threshold = [1.e-8] * 2 + [-0.01]\n",
    "reg.inputs.convergence_window_size = [20] * 2 + [5]\n",
    "reg.inputs.smoothing_sigmas = [[4, 2, 1]] * 2 + [[1, 0.5, 0]]\n",
    "reg.inputs.sigma_units = ['vox'] * 3\n",
    "reg.inputs.shrink_factors = [[3, 2, 1]]*2 + [[4, 2, 1]]\n",
    "reg.inputs.use_estimate_learning_rate_once = [True] * 3\n",
    "reg.inputs.use_histogram_matching = [False] * 2 + [True]\n",
    "reg.inputs.winsorize_lower_quantile = 0.005\n",
    "reg.inputs.winsorize_upper_quantile = 0.995\n",
    "# reg.inputs.output_warped_image = 'output/ants/registration/output_warped_image.nii.gz'\n",
    "#reg.inputs.output_transform_prefix = 'output/ants/registration/'\n",
    "reg.inputs.num_threads = 2 # 4\n",
    "reg.inputs.args = '--float'\n",
    "reg.inputs.fixed_image = template['t1']"
   ]
  },
  {
   "cell_type": "code",
   "execution_count": null,
   "metadata": {},
   "outputs": [],
   "source": [
    "reg = pe.Node(Registration(), name='NormalizationAnts')\n",
    "reg.inputs.fixed_image = template['t1']\n",
    "#reg.inputs.moving_image = 'output/ants/brainextraction/BrainExtractionBrain.nii.gz' #'sub-10_T1w.nii.gz'\n",
    "reg.inputs.output_transform_prefix = \"output/ants/registration/output_\"\n",
    "#reg.inputs.initial_moving_transform = 'trans.mat'\n",
    "reg.inputs.transforms = ['Affine', 'SyN']\n",
    "reg.inputs.transform_parameters = [(2.0,), (0.25, 3.0, 0.0)]\n",
    "reg.inputs.number_of_iterations = [[1500, 200], [100, 50, 30]]\n",
    "reg.inputs.dimension = 3\n",
    "reg.inputs.write_composite_transform = True\n",
    "reg.inputs.collapse_output_transforms = False\n",
    "reg.inputs.initialize_transforms_per_stage = False\n",
    "reg.inputs.metric = ['Mattes']*2\n",
    "reg.inputs.metric_weight = [1]*2 # Default (value ignored currently by ANTs)\n",
    "reg.inputs.radius_or_number_of_bins = [32]*2\n",
    "reg.inputs.sampling_strategy = ['Random', None]\n",
    "reg.inputs.sampling_percentage = [0.05, None]\n",
    "reg.inputs.convergence_threshold = [1.e-8, 1.e-9]\n",
    "reg.inputs.convergence_window_size = [20]*2\n",
    "reg.inputs.smoothing_sigmas = [[1,0], [2,1,0]]\n",
    "reg.inputs.sigma_units = ['vox'] * 2\n",
    "reg.inputs.shrink_factors = [[2,1], [3,2,1]]\n",
    "reg.inputs.use_estimate_learning_rate_once = [True, True]\n",
    "reg.inputs.use_histogram_matching = [True, True] # This is the default\n",
    "reg.inputs.output_warped_image = 'output/ants/registration/output_warped_image.nii.gz'\n",
    "reg.inputs.output_transform_prefix = 'output/ants/registration/'\n",
    "reg.inputs.num_threads = 2 # 4"
   ]
  },
  {
   "cell_type": "code",
   "execution_count": null,
   "metadata": {},
   "outputs": [],
   "source": [
    "regworkflow = pe.Workflow('intracranial-ants-mni')    \n",
    "#regworkflow.connect(BIDSDataGrabber, \"anat_filenames\", Separator, \"input_full_path\")\n",
    "#regworkflow.connect(Separator, 'freesurfer_subj_id', recon_all, 'subject_id')\n",
    "#regworkflow.connect(Separator, 'filename', bet, 'in_file')\n",
    "#regworkflow.connect(Separator, 'freesurfer_output_path', recon_all, 'subjects_dir')\n",
    "\n",
    "regworkflow.connect(bet, 'out_file', reg, 'moving_image')\n",
    "# regworkflow.connect(bet,'out_file', coreg, 'fixed_image')\n",
    "#regworkflow.connect(reg, 'warped_image',outputnode, 'registered_T1')\n",
    "\n"
   ]
  },
  {
   "cell_type": "code",
   "execution_count": null,
   "metadata": {},
   "outputs": [],
   "source": [
    "from bids.grabbids import BIDSLayout\n",
    "    \n",
    "layout = BIDSLayout(data_dir)\n",
    "anats = [f.filename for f in layout.get(modality=\"anat\", type='T1w', extensions=['nii', 'nii.gz'])]\n",
    "\n",
    "print(anats)\n",
    "\n",
    "for a in anats:\n",
    "    subject = a.split('/')[5]\n",
    "    \n",
    "    fsl_subject_output_dir = fsl_output_dir+'/'+subject\n",
    "    ants_subject_output_dir = ants_output_dir+'/'+subject+'/'\n",
    "    \n",
    "    if not os.path.exists(fsl_subject_output_dir):\n",
    "        os.mkdir(fsl_subject_output_dir)\n",
    "    \n",
    "    if not os.path.exists(ants_subject_output_dir):\n",
    "        os.mkdir(ants_subject_output_dir)\n",
    "    \n",
    "    \n",
    "    \n",
    "    bet.inputs.in_file = a\n",
    "    bet.inputs.out_file = fsl_subject_output_dir+'/bet.nii.gz'\n",
    "    \n",
    "    reg.inputs.output_transform_prefix = ants_subject_output_dir\n",
    "    reg.inputs.output_warped_image = os.path.join(ants_subject_output_dir,'output_warped_image.nii.gz')\n",
    "    \n",
    "    regworkflow.run()\n",
    "#regworkflow.run(\"MultiProc\", plugin_args={'n_procs': 4})"
   ]
  },
  {
   "cell_type": "code",
   "execution_count": null,
   "metadata": {},
   "outputs": [],
   "source": [
    "print(ants_output_dir)"
   ]
  },
  {
   "cell_type": "code",
   "execution_count": null,
   "metadata": {},
   "outputs": [],
   "source": [
    "at1 = ApplyTransforms()\n",
    "at1.inputs.dimension = 3\n",
    "at1.inputs.input_image = os.path.join(fsl_output_dir, 'sub-01', 'bet.nii.gz') #anats[0]\n",
    "at1.inputs.reference_image = template['t1']\n",
    "at1.inputs.output_image = os.path.join(ants_output_dir, 'sub-01', 'deformed_moving.nii.gz')\n",
    "at1.inputs.interpolation = 'BSpline'\n",
    "at1.inputs.interpolation_parameters = (5,)\n",
    "at1.inputs.default_value = 0\n",
    "at1.inputs.transforms = os.path.join(ants_output_dir, 'sub-01', 'Composite.h5')\n",
    "at1.inputs.invert_transform_flags = False\n",
    "at1.cmdline\n",
    "res = at1.run()\n",
    "print(res.outputs)"
   ]
  },
  {
   "cell_type": "code",
   "execution_count": null,
   "metadata": {},
   "outputs": [],
   "source": [
    "plotting.plot_anat(os.path.join(fsl_output_dir, 'sub-01', 'bet.nii.gz'), \\#anats[0], \\\n",
    "                  title = \"Original volume\", \\\n",
    "                  draw_cross=False)\n",
    "plotting.plot_anat(os.path.join(ants_output_dir, 'sub-01', 'deformed_moving.nii.gz'), \\\n",
    "                  title = \"Warped volume\", \\\n",
    "                  draw_cross=False)\n",
    "plotting.plot_anat(title = \"Template volume (MNI)\", \\\n",
    "                  draw_cross=False)"
   ]
  },
  {
   "cell_type": "code",
   "execution_count": null,
   "metadata": {},
   "outputs": [],
   "source": []
  }
 ],
 "metadata": {
  "kernelspec": {
   "display_name": "Python 3",
   "language": "python",
   "name": "python3"
  },
  "language_info": {
   "codemirror_mode": {
    "name": "ipython",
    "version": 3
   },
   "file_extension": ".py",
   "mimetype": "text/x-python",
   "name": "python",
   "nbconvert_exporter": "python",
   "pygments_lexer": "ipython3",
   "version": "3.6.5"
  }
 },
 "nbformat": 4,
 "nbformat_minor": 2
}
