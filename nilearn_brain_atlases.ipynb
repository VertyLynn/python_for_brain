{
 "cells": [
  {
   "cell_type": "code",
   "execution_count": null,
   "metadata": {},
   "outputs": [],
   "source": [
    "%matplotlib inline"
   ]
  },
  {
   "cell_type": "markdown",
   "metadata": {},
   "source": [
    "# Brain Atlases\n",
    "\n",
    "A brain atlas, or parcellation, is a labeling of a volume. Each voxel contains a label, instead of a gray value. These labels are numeric. Each number corresponds to a region.\n",
    "\n",
    "This notebook is intended as a visual catalog of the different atlases avaliable via python libraries, such as nilearn. \n",
    "\n",
    "By default, atlases are ploted with MNI152. \n",
    "\n",
    "Some of these atlases are also explained here: https://fsl.fmrib.ox.ac.uk/fsl/fslwiki/Atlases\n",
    "\n",
    "## TOC:\n",
    "* [Import libraries](#Import-libraries)\n",
    "* [Default MNI template](#Plot-default-MNI-template)\n",
    "* [Destrieux atlas](#Destrieux-atlas)\n",
    "* [AAL atlas](#AAL-atlas)\n",
    "* [Yeo 2011 atlas](#Yeo-2011-surface-atlas)\n",
    "* [Basc Multiscale atlas](#Basc-Multiscale-atlas)\n",
    " * [Basc atlas. scale = 7](#Basc-atlas.-scale-=-7)\n",
    " * [Basc atlas. scale = 12](#Basc-atlas.-scale-=-12)\n",
    " * [Basc atlas. scale = 20](#Basc-atlas.-scale-=-20)\n",
    " * [Basc atlas. scale = 36](#Basc-atlas.-scale-=-36)\n",
    " * [Basc atlas. scale = 64](#Basc-atlas.-scale-=-64)\n",
    " * [Basc atlas. scale = 122](#Basc-atlas.-scale-=-122)\n",
    " * [Basc atlas. scale = 197](#Basc-atlas.-scale-=-197)\n",
    " * [Basc atlas. scale = 325](#Basc-atlas.-scale-=-325)\n",
    " * [Basc atlas. scale = 444](#Basc-atlas.-scale-=-444)\n",
    "* [Hardvard Oxford atlases](#Hardvard-Oxford-atlases)\n",
    " * [Harvard Oxford maximum probability cortical atlas. Thresold=0 voxel size = 1mm](#Harvard-Oxford-maximum-probability-cortical-atlas.-Thresold=0-voxel-size-=-1mm)\n",
    " * [Harvard Oxford maximum probability cortical atlas. Thresold=25 voxel size = 1mm](#Harvard-Oxford-maximum-probability-cortical-atlas.-Thresold=25-voxel-size-=-1mm)\n",
    " * [Harvard Oxford maximum probability cortical atlas. Thresold=50 voxel size = 1mm](#Harvard-Oxford-maximum-probability-cortical-atlas.-Thresold=50-voxel-size-=-1mm)\n",
    " * [Harvard Oxford maximum probability sub-cortical atlas. Thresold=0 voxel size = 1mm](#Harvard-Oxford-maximum-probability-sub-cortical-atlas.-Thresold=0-voxel-size-=-1mm)\n",
    " * [Harvard Oxford maximum probability sub-cortical atlas. Thresold=25 voxel size = 1mm](#Harvard-Oxford-maximum-probability-sub-cortical-atlas.-Thresold=0-voxel-size-=-1mm)\n",
    " * [Harvard Oxford maximum probability sub-cortical atlas. Thresold=50 voxel size = 1mm](#Harvard-Oxford-maximum-probability-sub-cortical-atlas.-Thresold=0-voxel-size-=-1mm)\n",
    "* [Talairach atlas](#Talairach-atlas)\n",
    " * [Talairach hemispheres atlas](#Talairach-hemispheres-atlas)\n",
    " * [Talairach lobes atlas](#Talairach-lobes-atlas)\n",
    " * [Talairach gyrus atlas](#Talairach-gyrus-atlas)\n",
    " * [Talairach Brodmann areas atlas](#Talairach-Brodmann-areas-atlas)"
   ]
  },
  {
   "cell_type": "markdown",
   "metadata": {},
   "source": [
    "### Import libraries"
   ]
  },
  {
   "cell_type": "code",
   "execution_count": null,
   "metadata": {},
   "outputs": [],
   "source": [
    "from nilearn import plotting\n",
    "from nilearn import datasets\n",
    "from IPython.display import HTML, display"
   ]
  },
  {
   "cell_type": "markdown",
   "metadata": {},
   "source": [
    "### Plot default MNI template"
   ]
  },
  {
   "cell_type": "code",
   "execution_count": null,
   "metadata": {},
   "outputs": [],
   "source": [
    "plotting.plot_anat()"
   ]
  },
  {
   "cell_type": "markdown",
   "metadata": {},
   "source": [
    "## Destrieux atlas"
   ]
  },
  {
   "cell_type": "code",
   "execution_count": null,
   "metadata": {},
   "outputs": [],
   "source": [
    "destrieux_atlas = datasets.fetch_atlas_destrieux_2009()\n",
    "print(str(destrieux_atlas['description']))\n",
    "destrieux_parcellation = destrieux_atlas['maps']\n",
    "plotting.plot_roi(destrieux_parcellation, cmap='gist_ncar',\n",
    "                  title='Destrieux 2010 parcellation')\n"
   ]
  },
  {
   "cell_type": "markdown",
   "metadata": {},
   "source": [
    "## AAL atlas"
   ]
  },
  {
   "cell_type": "code",
   "execution_count": null,
   "metadata": {},
   "outputs": [],
   "source": [
    "aal_atlas = datasets.fetch_atlas_aal()\n",
    "print(aal_atlas.description.decode('UTF-8'))\n",
    "aal_parcellation = aal_atlas['maps']\n",
    "plotting.plot_roi(aal_parcellation, cmap='gist_ncar',\n",
    "                  title='AAL parcellation')"
   ]
  },
  {
   "cell_type": "markdown",
   "metadata": {},
   "source": [
    "## Yeo 2011 atlas\n",
    "\n",
    "This parcellation has an anatomy volume, which is used in the plots."
   ]
  },
  {
   "cell_type": "code",
   "execution_count": null,
   "metadata": {},
   "outputs": [],
   "source": [
    "yeo_atlas = datasets.fetch_atlas_yeo_2011()\n",
    "print(str(yeo_atlas['description'].decode('UTF-8')))\n",
    "yeo_parcellation7 = yeo_atlas['thick_7']\n",
    "yeo_parcellation17 = yeo_atlas['thick_17']\n",
    "yeo_anat = yeo_atlas['anat']\n",
    "plotting.plot_roi(yeo_parcellation7, bg_img = yeo_anat, cmap='gist_ncar',\n",
    "                  title='Cortical parcelation into 7 regions, thick cortical model')\n",
    "\n",
    "plotting.plot_roi(yeo_parcellation17, bg_img = yeo_anat, cmap='gist_ncar',\n",
    "                  title='Cortical parcelation into 17 regions, thick cortical model')\n"
   ]
  },
  {
   "cell_type": "markdown",
   "metadata": {},
   "source": [
    "## Basc Multiscale atlas"
   ]
  },
  {
   "cell_type": "code",
   "execution_count": null,
   "metadata": {},
   "outputs": [],
   "source": [
    "basc_atlas = datasets.fetch_atlas_basc_multiscale_2015()\n",
    "print(str(basc_atlas['description'].decode('UTF-8')))"
   ]
  },
  {
   "cell_type": "markdown",
   "metadata": {},
   "source": [
    "### Basc atlas. scale = 7"
   ]
  },
  {
   "cell_type": "code",
   "execution_count": null,
   "metadata": {},
   "outputs": [],
   "source": [
    "plotting.plot_roi(basc_atlas['scale007'], cmap='gist_ncar',\n",
    "                  title='Symetric scale 007 Basc atlas')"
   ]
  },
  {
   "cell_type": "markdown",
   "metadata": {},
   "source": [
    "### Basc atlas. scale = 12"
   ]
  },
  {
   "cell_type": "code",
   "execution_count": null,
   "metadata": {},
   "outputs": [],
   "source": [
    "plotting.plot_roi(basc_atlas['scale012'], cmap='gist_ncar',\n",
    "                  title='Symetric scale 012 Basc atlas')"
   ]
  },
  {
   "cell_type": "markdown",
   "metadata": {},
   "source": [
    "### Basc atlas. scale = 20"
   ]
  },
  {
   "cell_type": "code",
   "execution_count": null,
   "metadata": {},
   "outputs": [],
   "source": [
    "plotting.plot_roi(basc_atlas['scale020'], cmap='gist_ncar',\n",
    "                  title='Symetric scale 020 Basc atlas')"
   ]
  },
  {
   "cell_type": "markdown",
   "metadata": {},
   "source": [
    "### Basc atlas. scale = 36"
   ]
  },
  {
   "cell_type": "code",
   "execution_count": null,
   "metadata": {},
   "outputs": [],
   "source": [
    "plotting.plot_roi(basc_atlas['scale036'], cmap='gist_ncar',\n",
    "                  title='Symetric scale 036 Basc atlas')"
   ]
  },
  {
   "cell_type": "markdown",
   "metadata": {},
   "source": [
    "### Basc atlas. scale = 64"
   ]
  },
  {
   "cell_type": "code",
   "execution_count": null,
   "metadata": {},
   "outputs": [],
   "source": [
    "plotting.plot_roi(basc_atlas['scale064'], cmap='gist_ncar',\n",
    "                  title='Symetric scale 064 Basc atlas')"
   ]
  },
  {
   "cell_type": "markdown",
   "metadata": {},
   "source": [
    "### Basc atlas. scale = 122"
   ]
  },
  {
   "cell_type": "code",
   "execution_count": null,
   "metadata": {},
   "outputs": [],
   "source": [
    "plotting.plot_roi(basc_atlas['scale122'], cmap='gist_ncar',\n",
    "                  title='Symetric scale 122 Basc atlas')"
   ]
  },
  {
   "cell_type": "markdown",
   "metadata": {},
   "source": [
    "### Basc atlas. scale = 197"
   ]
  },
  {
   "cell_type": "code",
   "execution_count": null,
   "metadata": {},
   "outputs": [],
   "source": [
    "plotting.plot_roi(basc_atlas['scale197'], cmap='gist_ncar',\n",
    "                  title='Symetric scale 197 Basc atlas')"
   ]
  },
  {
   "cell_type": "markdown",
   "metadata": {},
   "source": [
    "### Basc atlas. scale = 325"
   ]
  },
  {
   "cell_type": "code",
   "execution_count": null,
   "metadata": {},
   "outputs": [],
   "source": [
    "plotting.plot_roi(basc_atlas['scale325'], cmap='gist_ncar',\n",
    "                  title='Symetric scale 325 Basc atlas')"
   ]
  },
  {
   "cell_type": "markdown",
   "metadata": {},
   "source": [
    "### Basc atlas. scale = 444"
   ]
  },
  {
   "cell_type": "code",
   "execution_count": null,
   "metadata": {},
   "outputs": [],
   "source": [
    "plotting.plot_roi(basc_atlas['scale444'], cmap='gist_ncar',\n",
    "                  title='Symetric scale 444 Basc atlas')"
   ]
  },
  {
   "cell_type": "markdown",
   "metadata": {},
   "source": [
    "## Hardvard Oxford atlases"
   ]
  },
  {
   "cell_type": "markdown",
   "metadata": {},
   "source": [
    "It contains several atlases. Max probability maps are 3D volumes and the rest are 4D.\n",
    "http://nilearn.github.io/modules/generated/nilearn.datasets.fetch_atlas_harvard_oxford.html#nilearn.datasets.fetch_atlas_harvard_oxford"
   ]
  },
  {
   "cell_type": "markdown",
   "metadata": {},
   "source": [
    "### Harvard Oxford maximum probability cortical atlas. Thresold=0 voxel size = 1mm"
   ]
  },
  {
   "cell_type": "code",
   "execution_count": null,
   "metadata": {},
   "outputs": [],
   "source": [
    "orxford_atlas = datasets.fetch_atlas_harvard_oxford('cort-maxprob-thr0-1mm')\n",
    "oxford_filename = orxford_atlas.maps\n",
    "plotting.plot_roi(oxford_filename, cmap='gist_ncar', title=\"Harvard Oxford atlas Thr 0 1mm\")"
   ]
  },
  {
   "cell_type": "markdown",
   "metadata": {},
   "source": [
    "### Harvard Oxford maximum probability cortical atlas. Thresold=25 voxel size = 1mm"
   ]
  },
  {
   "cell_type": "code",
   "execution_count": null,
   "metadata": {},
   "outputs": [],
   "source": [
    "orxford_atlas = datasets.fetch_atlas_harvard_oxford('cort-maxprob-thr25-1mm')\n",
    "oxford_filename = orxford_atlas.maps\n",
    "plotting.plot_roi(oxford_filename, cmap='gist_ncar', title=\"Harvard Oxford cortical atlas Thr 25 1mm\")"
   ]
  },
  {
   "cell_type": "markdown",
   "metadata": {},
   "source": [
    "### Harvard Oxford maximum probability cortical atlas. Thresold=50 voxel size = 1mm"
   ]
  },
  {
   "cell_type": "code",
   "execution_count": null,
   "metadata": {},
   "outputs": [],
   "source": [
    "orxford_atlas = datasets.fetch_atlas_harvard_oxford('cort-maxprob-thr50-1mm')\n",
    "oxford_filename = orxford_atlas.maps\n",
    "plotting.plot_roi(oxford_filename, cmap='gist_ncar', title=\"Harvard Oxford cortical atlas Thr 50 1mm\")"
   ]
  },
  {
   "cell_type": "markdown",
   "metadata": {},
   "source": [
    "### Harvard Oxford maximum probability sub-cortical atlas. Thresold=0 voxel size = 1mm"
   ]
  },
  {
   "cell_type": "code",
   "execution_count": null,
   "metadata": {},
   "outputs": [],
   "source": [
    "orxford_atlas = datasets.fetch_atlas_harvard_oxford('sub-maxprob-thr0-1mm')\n",
    "oxford_filename = orxford_atlas.maps\n",
    "plotting.plot_roi(oxford_filename, cmap='gist_ncar', title=\"Harvard Oxford sub-cortical atlas Thr 0 1mm\")"
   ]
  },
  {
   "cell_type": "markdown",
   "metadata": {},
   "source": [
    "### Harvard Oxford maximum probability sub-cortical atlas. Thresold=25 voxel size = 1mm"
   ]
  },
  {
   "cell_type": "code",
   "execution_count": null,
   "metadata": {},
   "outputs": [],
   "source": [
    "orxford_atlas = datasets.fetch_atlas_harvard_oxford('sub-maxprob-thr25-1mm')\n",
    "oxford_filename = orxford_atlas.maps\n",
    "plotting.plot_roi(oxford_filename, cmap='gist_ncar', title=\"Harvard Oxford sub-cortical atlas Thr 25 1mm\")"
   ]
  },
  {
   "cell_type": "markdown",
   "metadata": {},
   "source": [
    "### Harvard Oxford maximum probability sub-cortical atlas. Thresold=50 voxel size = 1mm"
   ]
  },
  {
   "cell_type": "code",
   "execution_count": null,
   "metadata": {},
   "outputs": [],
   "source": [
    "orxford_atlas = datasets.fetch_atlas_harvard_oxford('sub-maxprob-thr50-1mm')\n",
    "oxford_filename = orxford_atlas.maps\n",
    "plotting.plot_roi(oxford_filename, cmap='gist_ncar', title=\"Harvard Oxford sub-cortical atlas Thr 50 1mm\")"
   ]
  },
  {
   "cell_type": "markdown",
   "metadata": {},
   "source": [
    "## Talairach atlas\n",
    "It contains different parcellations:\n",
    "* Hemispheres\n",
    "* Lobes\n",
    "* Gyrus\n",
    "* Tissue\n",
    "* Brodmann areas"
   ]
  },
  {
   "cell_type": "markdown",
   "metadata": {},
   "source": [
    "### Talairach hemispheres atlas"
   ]
  },
  {
   "cell_type": "code",
   "execution_count": null,
   "metadata": {},
   "outputs": [],
   "source": [
    "talairach_atlas = datasets.fetch_atlas_talairach('hemisphere')\n",
    "talairach_filename = talairach_atlas.maps\n",
    "print(talairach_atlas.description)\n",
    "plotting.plot_roi(talairach_filename, cmap='gist_ncar', title=\"Talairach hemispheres atlas\")"
   ]
  },
  {
   "cell_type": "markdown",
   "metadata": {},
   "source": [
    "### Talairach lobes atlas"
   ]
  },
  {
   "cell_type": "code",
   "execution_count": null,
   "metadata": {},
   "outputs": [],
   "source": [
    "talairach_atlas = datasets.fetch_atlas_talairach('lobe')\n",
    "talairach_filename = talairach_atlas.maps\n",
    "print(talairach_atlas.description)\n",
    "plotting.plot_roi(talairach_filename, cmap='gist_ncar', title=\"Talairach lobes atlas\")"
   ]
  },
  {
   "cell_type": "markdown",
   "metadata": {},
   "source": [
    "### Talairach gyrus atlas"
   ]
  },
  {
   "cell_type": "code",
   "execution_count": null,
   "metadata": {},
   "outputs": [],
   "source": [
    "talairach_atlas = datasets.fetch_atlas_talairach('gyrus')\n",
    "talairach_filename = talairach_atlas.maps\n",
    "print(talairach_atlas.description)\n",
    "plotting.plot_roi(talairach_filename, cmap='gist_ncar', title=\"Talairach gyrus atlas\")"
   ]
  },
  {
   "cell_type": "markdown",
   "metadata": {},
   "source": [
    "### Talairach Brodmann areas atlas"
   ]
  },
  {
   "cell_type": "code",
   "execution_count": null,
   "metadata": {},
   "outputs": [],
   "source": [
    "talairach_atlas = datasets.fetch_atlas_talairach('ba')\n",
    "talairach_filename = talairach_atlas.maps\n",
    "print(talairach_atlas.description)\n",
    "plotting.plot_roi(talairach_filename, cmap='gist_ncar', title=\"Talairach brodmann areas atlas\")"
   ]
  },
  {
   "cell_type": "code",
   "execution_count": null,
   "metadata": {},
   "outputs": [],
   "source": []
  }
 ],
 "metadata": {
  "kernelspec": {
   "display_name": "Python 3",
   "language": "python",
   "name": "python3"
  },
  "language_info": {
   "codemirror_mode": {
    "name": "ipython",
    "version": 3
   },
   "file_extension": ".py",
   "mimetype": "text/x-python",
   "name": "python",
   "nbconvert_exporter": "python",
   "pygments_lexer": "ipython3",
   "version": "3.6.4"
  }
 },
 "nbformat": 4,
 "nbformat_minor": 1
}
